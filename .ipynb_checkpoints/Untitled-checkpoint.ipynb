{
 "cells": [
  {
   "cell_type": "code",
   "execution_count": 1,
   "id": "c7a0dac8",
   "metadata": {},
   "outputs": [
    {
     "name": "stderr",
     "output_type": "stream",
     "text": [
      "pybullet build time: May 20 2022 19:44:17\n"
     ]
    }
   ],
   "source": [
    "import os\n",
    "from os.path import join, isfile\n",
    "import sys\n",
    "from tests.config import ASSET_PATH, EXP_PATH\n",
    "import time\n",
    "import tqdm\n",
    "import pybullet as p\n",
    "import random\n",
    "import numpy as np\n",
    "import argparse    \n",
    "sys.path.append('pddlstream')\n",
    "sys.path.append('pybullet_planning')\n",
    "\n",
    "from pybullet_tools.utils import set_random_seed, connect, enable_preview, \\\n",
    "    disconnect, draw_pose, set_all_static, wait_if_gui, remove_handles, unit_pose, get_sample_fn, pairwise_collision, \\\n",
    "    set_camera_pose, add_line, get_point, BLACK, get_name, CLIENTS, get_client, link_from_name, \\\n",
    "    get_link_subtree, clone_body, set_all_color, GREEN, BROWN, invert, multiply, set_pose, VideoSaver, reset_simulation\n",
    "\n",
    "from world_builder.world import World, State\n",
    "from world_builder.builders import test_pick, test_exist_omelette, test_kitchen_oven, test_feg_pick, test_one_fridge"
   ]
  },
  {
   "cell_type": "code",
   "execution_count": 2,
   "id": "26740cf6",
   "metadata": {},
   "outputs": [],
   "source": [
    "# def get_parser():\n",
    "parser = argparse.ArgumentParser()\n",
    "\n",
    "## -------- simulation related\n",
    "parser.add_argument('-v', '--viewer', action='store_true', help='')\n",
    "parser.add_argument('-d', '--drive', action='store_true', help='')\n",
    "parser.add_argument('-t', '--time_step', type=float, default=4e-0)\n",
    "parser.add_argument('--teleport', action='store_true', help='')\n",
    "parser.add_argument('-s', '--seed', type=int, default=None, help='')\n",
    "parser.add_argument('-cam', '--camera', action='store_true', default=True, help='')\n",
    "parser.add_argument('-seg', '--segment', action='store_true', default=False, help='')\n",
    "parser.add_argument('-mon', '--monitoring', action='store_true', default=False)\n",
    "\n",
    "args, unknown = parser.parse_known_args()  # TODO: flag to save a video\n",
    "#     set_random_seed(args.seed)\n",
    "#     return args"
   ]
  },
  {
   "cell_type": "code",
   "execution_count": 3,
   "id": "5c3dddf0",
   "metadata": {},
   "outputs": [
    {
     "data": {
      "text/plain": [
       "[0, 1, 2]"
      ]
     },
     "execution_count": 3,
     "metadata": {},
     "output_type": "execute_result"
    }
   ],
   "source": [
    "# DEFAULT_TEST = test_one_fridge  ## test_one_fridge | test_feg_pick | test_kitchen_oven | test_exist_omelette\n",
    "USE_GUI = True\n",
    "\"\"\" ============== initiate simulator ==================== \"\"\"\n",
    "\n",
    "## for viewing, not the size of depth image\n",
    "connect(use_gui=USE_GUI, shadows=False, width=1980, height=1238)\n",
    "\n",
    "# set_camera_pose(camera_point=[2.5, 0., 3.5], target_point=[1., 0, 1.])\n",
    "if True: #args.camera:\n",
    "    enable_preview()\n",
    "    p.configureDebugVisualizer(p.COV_ENABLE_SEGMENTATION_MARK_PREVIEW, False)\n",
    "draw_pose(unit_pose(), length=1.)"
   ]
  },
  {
   "cell_type": "code",
   "execution_count": 4,
   "id": "29e531c2",
   "metadata": {},
   "outputs": [
    {
     "ename": "NameError",
     "evalue": "name 'DEFAULT_TEST' is not defined",
     "output_type": "error",
     "traceback": [
      "\u001b[0;31m---------------------------------------------------------------------------\u001b[0m",
      "\u001b[0;31mNameError\u001b[0m                                 Traceback (most recent call last)",
      "Input \u001b[0;32mIn [4]\u001b[0m, in \u001b[0;36m<cell line: 4>\u001b[0;34m()\u001b[0m\n\u001b[1;32m      1\u001b[0m \u001b[38;5;124;03m\"\"\" ============== sample world configuration ==================== \"\"\"\u001b[39;00m\n\u001b[1;32m      3\u001b[0m world \u001b[38;5;241m=\u001b[39m World(args, time_step\u001b[38;5;241m=\u001b[39margs\u001b[38;5;241m.\u001b[39mtime_step)\n\u001b[0;32m----> 4\u001b[0m floorplan, goal \u001b[38;5;241m=\u001b[39m \u001b[43mDEFAULT_TEST\u001b[49m(world)\n",
      "\u001b[0;31mNameError\u001b[0m: name 'DEFAULT_TEST' is not defined"
     ]
    }
   ],
   "source": [
    "\"\"\" ============== sample world configuration ==================== \"\"\"\n",
    "\n",
    "world = World(args, time_step=args.time_step)\n",
    "floorplan, goal = DEFAULT_TEST(world)#, verbose=False)"
   ]
  },
  {
   "cell_type": "code",
   "execution_count": 4,
   "id": "26969e77",
   "metadata": {},
   "outputs": [],
   "source": [
    "world = World(args, time_step=args.time_step)\n",
    "world.set_skip_joints()"
   ]
  },
  {
   "cell_type": "code",
   "execution_count": 7,
   "id": "28025e87",
   "metadata": {},
   "outputs": [],
   "source": [
    "from pybullet_planning.world_builder.entities import Object, Floor, Moveable\n",
    "from pybullet_tools.utils import create_box, TAN, WHITE, BLACK, GREY, Pose, Point, PI\n",
    "\n",
    "FLOOR_HEIGHT = 1e-3\n",
    "FLOOR_WIDTH = 3\n",
    "FLOOR_LENGTH = 6\n",
    "floor = world.add_object(\n",
    "    Floor(create_box(w=round(FLOOR_WIDTH, 1), l=round(FLOOR_LENGTH, 1), h=FLOOR_HEIGHT, color=TAN, collision=True)),\n",
    "    Pose(point=Point(x=round(0.5*FLOOR_WIDTH, 1), y=round(0, 1), z=-0.5*FLOOR_HEIGHT)))"
   ]
  },
  {
   "cell_type": "code",
   "execution_count": 12,
   "id": "33a10842",
   "metadata": {},
   "outputs": [],
   "source": [
    "world.remove_object(floor)"
   ]
  },
  {
   "cell_type": "code",
   "execution_count": 6,
   "id": "1e0c4002",
   "metadata": {},
   "outputs": [],
   "source": [
    "WALL_HEIGHT = 5\n",
    "WALL_WIDTH = FLOOR_HEIGHT\n",
    "WALL_LENGTH = FLOOR_LENGTH\n",
    "wall = world.add_object(\n",
    "    Floor(create_box(w=round(WALL_WIDTH, 1), l=round(WALL_LENGTH, 1), h=WALL_HEIGHT, color=WHITE, collision=True)),\n",
    "    Pose(point=Point(x=round(-0.5*WALL_WIDTH, 1), y=round(0, 1), z=0.5*WALL_HEIGHT)))"
   ]
  },
  {
   "cell_type": "code",
   "execution_count": 8,
   "id": "c4449a16",
   "metadata": {},
   "outputs": [],
   "source": [
    "world.remove_object(wall)"
   ]
  },
  {
   "cell_type": "code",
   "execution_count": 22,
   "id": "af1e06e4",
   "metadata": {},
   "outputs": [],
   "source": [
    "COUNTER_HEIGHT = 0.1\n",
    "COUNTER_WIDTH = 1\n",
    "COUNTER_LENGTH = 3\n",
    "counter = world.add_object(\n",
    "    Floor(create_box(w=round(COUNTER_WIDTH, 1), l=round(COUNTER_LENGTH, 1), h=COUNTER_HEIGHT, color=GREY, collision=True)),\n",
    "    Pose(point=Point(x=round(0.5*COUNTER_WIDTH, 1), y=round(0, 1), z=1.1)))"
   ]
  },
  {
   "cell_type": "code",
   "execution_count": 21,
   "id": "fea4c88b",
   "metadata": {},
   "outputs": [],
   "source": [
    "world.remove_object(counter)"
   ]
  },
  {
   "cell_type": "code",
   "execution_count": 63,
   "id": "eed1c4f1",
   "metadata": {},
   "outputs": [],
   "source": [
    "cat = 'dishwasher'\n",
    "x = 1-0.3*random.random()\n",
    "y = 0\n",
    "w = 1\n",
    "l = 1\n",
    "yaw = {0: 0, 90: PI / 2, 180: PI, 270: -PI / 2}[180]\n",
    "\n",
    "dishwasher = world.add_object(Object(load_asset(cat, x=x, y=y, yaw=yaw, floor=floor, w=w, l=l, RANDOM_INSTANCE=True)))"
   ]
  },
  {
   "cell_type": "code",
   "execution_count": 62,
   "id": "5630d8f7",
   "metadata": {},
   "outputs": [],
   "source": [
    "world.remove_object(dishwasher)"
   ]
  },
  {
   "cell_type": "code",
   "execution_count": 7,
   "id": "d7acc084",
   "metadata": {},
   "outputs": [],
   "source": [
    "    surfaces = {\n",
    "        'counter': {\n",
    "            'front_left_stove': [],\n",
    "            'front_right_stove': ['BraiserBody'],\n",
    "            'hitman_tmp': [],\n",
    "            'indigo_tmp': ['BraiserLid', 'MeatTurkeyLeg'],  ## , 'VeggieCabbage'\n",
    "        }\n",
    "    }\n",
    "    spaces = {\n",
    "        'Counter': {\n",
    "            'sektion': ['Bottle'], ##\n",
    "            'dagger': [], ## 'Salter', 'VinegarBottle'\n",
    "            'hitman_drawer_top': [],  ## 'Pan'\n",
    "            # 'hitman_drawer_bottom': ['Pan'],\n",
    "            # 'indigo_drawer_top': ['Fork'],  ## 'Fork', 'Knife'\n",
    "            # 'indigo_drawer_bottom': ['Fork', 'Knife'],\n",
    "            # 'indigo_tmp': ['Pot']\n",
    "        },\n",
    "    }"
   ]
  },
  {
   "cell_type": "code",
   "execution_count": 12,
   "id": "f047827e",
   "metadata": {},
   "outputs": [
    {
     "data": {
      "text/plain": [
       "{'living_room': {'x': 277.5,\n",
       "  'y': 236.24967500000002,\n",
       "  'yaw': 0,\n",
       "  'w': 321.0,\n",
       "  'l': 646.49935,\n",
       "  'category': 'floor'},\n",
       " 'counter#1': {'x': 153.5,\n",
       "  'y': 435.64441,\n",
       "  'yaw': 0,\n",
       "  'w': 73.0,\n",
       "  'l': 247.7099,\n",
       "  'category': 'counter'},\n",
       " 'Oven#1': {'x': 162.844172,\n",
       "  'y': 465.12913,\n",
       "  'yaw': 180,\n",
       "  'w': 51.288344,\n",
       "  'l': 63.85826,\n",
       "  'category': 'Oven'},\n",
       " 'DishWasher#1': {'x': 167.69655,\n",
       "  'y': 354.937842,\n",
       "  'yaw': 180,\n",
       "  'w': 48.72644,\n",
       "  'l': 55.875684,\n",
       "  'category': 'DishWasher'},\n",
       " 'Basin#1': {'x': 153.542937,\n",
       "  'y': 302.84026300000005,\n",
       "  'yaw': 180,\n",
       "  'w': 41.319394,\n",
       "  'l': 50.061486,\n",
       "  'category': 'Basin'},\n",
       " 'Fridge#1': {'x': 153.5,\n",
       "  'y': 244.0,\n",
       "  'yaw': 180,\n",
       "  'w': 49.0,\n",
       "  'l': 60.0,\n",
       "  'category': 'Fridge'}}"
      ]
     },
     "execution_count": 12,
     "metadata": {},
     "output_type": "execute_result"
    }
   ],
   "source": [
    "from pybullet_planning.world_builder.utils import read_xml, load_asset\n",
    "\n",
    "objects, X_OFFSET, Y_OFFSET, SCALING, FLOOR_X_MIN, FLOOR_X_MAX, FLOOR_Y_MIN, FLOOR_Y_MAX = read_xml('kitchen_v3.svg', asset_path='assets')\n",
    "objects"
   ]
  },
  {
   "cell_type": "code",
   "execution_count": 18,
   "id": "0d0516ab",
   "metadata": {},
   "outputs": [],
   "source": [
    "o = objects['counter#1']\n",
    "cat = o['category'].lower()\n",
    "x = (o['x'] - X_OFFSET) / SCALING\n",
    "y = (o['y'] - Y_OFFSET) / SCALING\n",
    "w = o['w'] / SCALING\n",
    "l = o['l'] / SCALING\n",
    "\n",
    "## add the object itself\n",
    "yaw = {0: 0, 90: PI / 2, 180: PI, 270: -PI / 2}[o['yaw']]\n",
    "obj = world.add_object(Object(\n",
    "    load_asset(cat, x=round(x, 1), y=0, yaw=yaw, floor=floor,\n",
    "               w=round(w, 1), l=round(l, 1), RANDOM_INSTANCE=True),\n",
    "    category=cat))"
   ]
  },
  {
   "cell_type": "code",
   "execution_count": 17,
   "id": "3ec06f0d",
   "metadata": {},
   "outputs": [],
   "source": [
    "world.remove_object(obj)"
   ]
  },
  {
   "cell_type": "code",
   "execution_count": 19,
   "id": "d6ec7706",
   "metadata": {},
   "outputs": [
    {
     "data": {
      "text/plain": [
       "'counter'"
      ]
     },
     "execution_count": 19,
     "metadata": {},
     "output_type": "execute_result"
    }
   ],
   "source": [
    "cat"
   ]
  }
 ],
 "metadata": {
  "kernelspec": {
   "display_name": "Python [conda env:kw]",
   "language": "python",
   "name": "conda-env-kw-py"
  },
  "language_info": {
   "codemirror_mode": {
    "name": "ipython",
    "version": 3
   },
   "file_extension": ".py",
   "mimetype": "text/x-python",
   "name": "python",
   "nbconvert_exporter": "python",
   "pygments_lexer": "ipython3",
   "version": "3.8.13"
  }
 },
 "nbformat": 4,
 "nbformat_minor": 5
}
