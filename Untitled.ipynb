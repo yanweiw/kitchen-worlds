{
 "cells": [
  {
   "cell_type": "code",
   "execution_count": 1,
   "id": "c7a0dac8",
   "metadata": {},
   "outputs": [
    {
     "name": "stderr",
     "output_type": "stream",
     "text": [
      "pybullet build time: May 20 2022 19:44:17\n"
     ]
    }
   ],
   "source": [
    "import os\n",
    "from os.path import join, isfile\n",
    "import sys\n",
    "from tests.config import ASSET_PATH, EXP_PATH\n",
    "import time\n",
    "import tqdm\n",
    "import pybullet as p\n",
    "import random\n",
    "import numpy as np\n",
    "import argparse    \n",
    "sys.path.append('pddlstream')\n",
    "sys.path.append('pybullet_planning')\n",
    "\n",
    "from pybullet_tools.utils import set_random_seed, connect, enable_preview, \\\n",
    "    disconnect, draw_pose, set_all_static, wait_if_gui, remove_handles, unit_pose, get_sample_fn, pairwise_collision, \\\n",
    "    set_camera_pose, add_line, get_point, BLACK, get_name, CLIENTS, get_client, link_from_name, \\\n",
    "    get_link_subtree, clone_body, set_all_color, GREEN, BROWN, invert, multiply, set_pose, VideoSaver, reset_simulation\n",
    "\n",
    "from world_builder.world import World, State\n",
    "from world_builder.builders import test_pick, test_exist_omelette, test_kitchen_oven, test_feg_pick, test_one_fridge"
   ]
  },
  {
   "cell_type": "code",
   "execution_count": 2,
   "id": "26740cf6",
   "metadata": {},
   "outputs": [],
   "source": [
    "# def get_parser():\n",
    "parser = argparse.ArgumentParser()\n",
    "\n",
    "## -------- simulation related\n",
    "parser.add_argument('-v', '--viewer', action='store_true', help='')\n",
    "parser.add_argument('-d', '--drive', action='store_true', help='')\n",
    "parser.add_argument('-t', '--time_step', type=float, default=4e-0)\n",
    "parser.add_argument('--teleport', action='store_true', help='')\n",
    "parser.add_argument('-s', '--seed', type=int, default=None, help='')\n",
    "parser.add_argument('-cam', '--camera', action='store_true', default=True, help='')\n",
    "parser.add_argument('-seg', '--segment', action='store_true', default=False, help='')\n",
    "parser.add_argument('-mon', '--monitoring', action='store_true', default=False)\n",
    "\n",
    "args, unknown = parser.parse_known_args()  # TODO: flag to save a video\n",
    "#     set_random_seed(args.seed)\n",
    "#     return args"
   ]
  },
  {
   "cell_type": "code",
   "execution_count": 3,
   "id": "5c3dddf0",
   "metadata": {},
   "outputs": [
    {
     "data": {
      "text/plain": [
       "[0, 1, 2]"
      ]
     },
     "execution_count": 3,
     "metadata": {},
     "output_type": "execute_result"
    }
   ],
   "source": [
    "# DEFAULT_TEST = test_one_fridge  ## test_one_fridge | test_feg_pick | test_kitchen_oven | test_exist_omelette\n",
    "USE_GUI = True\n",
    "\"\"\" ============== initiate simulator ==================== \"\"\"\n",
    "\n",
    "## for viewing, not the size of depth image\n",
    "connect(use_gui=USE_GUI, shadows=False, width=1980, height=1238)\n",
    "\n",
    "# set_camera_pose(camera_point=[2.5, 0., 3.5], target_point=[1., 0, 1.])\n",
    "if True: #args.camera:\n",
    "    enable_preview()\n",
    "    p.configureDebugVisualizer(p.COV_ENABLE_SEGMENTATION_MARK_PREVIEW, False)\n",
    "draw_pose(unit_pose(), length=1.)"
   ]
  },
  {
   "cell_type": "code",
   "execution_count": 4,
   "id": "29e531c2",
   "metadata": {},
   "outputs": [
    {
     "ename": "NameError",
     "evalue": "name 'DEFAULT_TEST' is not defined",
     "output_type": "error",
     "traceback": [
      "\u001b[0;31m---------------------------------------------------------------------------\u001b[0m",
      "\u001b[0;31mNameError\u001b[0m                                 Traceback (most recent call last)",
      "Input \u001b[0;32mIn [4]\u001b[0m, in \u001b[0;36m<cell line: 4>\u001b[0;34m()\u001b[0m\n\u001b[1;32m      1\u001b[0m \u001b[38;5;124;03m\"\"\" ============== sample world configuration ==================== \"\"\"\u001b[39;00m\n\u001b[1;32m      3\u001b[0m world \u001b[38;5;241m=\u001b[39m World(args, time_step\u001b[38;5;241m=\u001b[39margs\u001b[38;5;241m.\u001b[39mtime_step)\n\u001b[0;32m----> 4\u001b[0m floorplan, goal \u001b[38;5;241m=\u001b[39m \u001b[43mDEFAULT_TEST\u001b[49m(world)\n",
      "\u001b[0;31mNameError\u001b[0m: name 'DEFAULT_TEST' is not defined"
     ]
    }
   ],
   "source": [
    "\"\"\" ============== sample world configuration ==================== \"\"\"\n",
    "\n",
    "world = World(args, time_step=args.time_step)\n",
    "floorplan, goal = DEFAULT_TEST(world)#, verbose=False)"
   ]
  },
  {
   "cell_type": "code",
   "execution_count": 4,
   "id": "26969e77",
   "metadata": {},
   "outputs": [],
   "source": [
    "world = World(args, time_step=args.time_step)\n",
    "world.set_skip_joints()"
   ]
  },
  {
   "cell_type": "code",
   "execution_count": 23,
   "id": "289168f7",
   "metadata": {},
   "outputs": [],
   "source": [
    "from pybullet_planning.world_builder.entities import Object, Floor, Moveable\n",
    "from pybullet_tools.utils import create_box, TAN, WHITE, BLACK, GREY, Pose, Point, PI, \\\n",
    "load_model, get_aabb, get_aabb_extent\n",
    "\n",
    "FLOOR_HEIGHT = 1e-3\n",
    "FLOOR_WIDTH = 3\n",
    "FLOOR_LENGTH = 6\n",
    "floor = world.add_object(\n",
    "    Floor(create_box(w=round(FLOOR_WIDTH, 1), l=round(FLOOR_LENGTH, 1), h=FLOOR_HEIGHT, color=TAN, collision=True)),\n",
    "    Pose(point=Point(x=round(0.5*FLOOR_WIDTH, 1), y=round(0, 1), z=-0.5*FLOOR_HEIGHT)))"
   ]
  },
  {
   "cell_type": "code",
   "execution_count": 12,
   "id": "5de6e8af",
   "metadata": {},
   "outputs": [],
   "source": [
    "world.remove_object(floor)"
   ]
  },
  {
   "cell_type": "code",
   "execution_count": 6,
   "id": "0b006248",
   "metadata": {},
   "outputs": [],
   "source": [
    "WALL_HEIGHT = 5\n",
    "WALL_WIDTH = FLOOR_HEIGHT\n",
    "WALL_LENGTH = FLOOR_LENGTH\n",
    "wall = world.add_object(\n",
    "    Floor(create_box(w=round(WALL_WIDTH, 1), l=round(WALL_LENGTH, 1), h=WALL_HEIGHT, color=WHITE, collision=True)),\n",
    "    Pose(point=Point(x=round(-0.5*WALL_WIDTH, 1), y=round(0, 1), z=0.5*WALL_HEIGHT)))"
   ]
  },
  {
   "cell_type": "code",
   "execution_count": 8,
   "id": "7f2d0c4b",
   "metadata": {},
   "outputs": [],
   "source": [
    "world.remove_object(wall)"
   ]
  },
  {
   "cell_type": "code",
   "execution_count": 16,
   "id": "5a30abeb",
   "metadata": {},
   "outputs": [],
   "source": [
    "file = join(ASSET_PATH, 'models/Fridge/10905/mobility.urdf')\n",
    "pose = Pose(point=Point(x=0.5, y=-1, z=0.5))\n",
    "fridge = load_model(file, pose=pose, fixed_base=True)"
   ]
  },
  {
   "cell_type": "code",
   "execution_count": 29,
   "id": "80b2e0bf",
   "metadata": {},
   "outputs": [],
   "source": [
    "p.removeBody(minifridge)"
   ]
  },
  {
   "cell_type": "code",
   "execution_count": 17,
   "id": "9dbbb823",
   "metadata": {},
   "outputs": [],
   "source": [
    "file = join(ASSET_PATH, 'models/MiniFridge/10797/mobility.urdf')\n",
    "pose = Pose(point=Point(x=0.5, y=1, z=0.5))\n",
    "minifridge = load_model(file, pose=pose, fixed_base=True)"
   ]
  },
  {
   "cell_type": "code",
   "execution_count": 21,
   "id": "ccaa5043",
   "metadata": {},
   "outputs": [
    {
     "data": {
      "text/plain": [
       "1"
      ]
     },
     "execution_count": 21,
     "metadata": {},
     "output_type": "execute_result"
    }
   ],
   "source": [
    "file = join(ASSET_PATH, 'models/Fridge/11299/mobility.urdf')\n",
    "get_model_scale(file)"
   ]
  },
  {
   "cell_type": "code",
   "execution_count": 27,
   "id": "2847aef3",
   "metadata": {},
   "outputs": [
    {
     "data": {
      "text/plain": [
       "AABB(lower=[-0.11862298870086688, 0.5514369986057279, -0.24999397182464622], upper=[1.00169601225853, 1.4484060027599337, 1.2966260232925417])"
      ]
     },
     "execution_count": 27,
     "metadata": {},
     "output_type": "execute_result"
    }
   ],
   "source": [
    "get_aabb(minifridge)\n",
    "# get_aabb_extent(aabb)"
   ]
  },
  {
   "cell_type": "code",
   "execution_count": 22,
   "id": "929f81be",
   "metadata": {},
   "outputs": [],
   "source": [
    "COUNTER_HEIGHT = 0.1\n",
    "COUNTER_WIDTH = 1\n",
    "COUNTER_LENGTH = 3\n",
    "counter = world.add_object(\n",
    "    Floor(create_box(w=round(COUNTER_WIDTH, 1), l=round(COUNTER_LENGTH, 1), h=COUNTER_HEIGHT, color=GREY, collision=True)),\n",
    "    Pose(point=Point(x=round(0.5*COUNTER_WIDTH, 1), y=round(0, 1), z=1.1)))"
   ]
  },
  {
   "cell_type": "code",
   "execution_count": 21,
   "id": "a33c4d44",
   "metadata": {},
   "outputs": [],
   "source": [
    "world.remove_object(counter)"
   ]
  },
  {
   "cell_type": "code",
   "execution_count": 91,
   "id": "a49cca92",
   "metadata": {},
   "outputs": [],
   "source": [
    "cat = 'dishwasher'\n",
    "scale = random.random()\n",
    "x = 1-0.2*random.random()\n",
    "y = -1 + 0.2*random.random()\n",
    "w = 1-scale\n",
    "l = scale\n",
    "yaw = {0: 0, 90: PI / 2, 180: PI, 270: -PI / 2}[180]\n",
    "\n",
    "dishwasher = world.add_object(Object(load_asset(cat, x=x, y=y, yaw=yaw, floor=counter, w=w, l=l, RANDOM_INSTANCE=True)))"
   ]
  },
  {
   "cell_type": "code",
   "execution_count": 92,
   "id": "698eedf9",
   "metadata": {},
   "outputs": [],
   "source": [
    "world.remove_object(dishwasher)"
   ]
  },
  {
   "cell_type": "code",
   "execution_count": 7,
   "id": "d7acc084",
   "metadata": {},
   "outputs": [],
   "source": [
    "    surfaces = {\n",
    "        'counter': {\n",
    "            'front_left_stove': [],\n",
    "            'front_right_stove': ['BraiserBody'],\n",
    "            'hitman_tmp': [],\n",
    "            'indigo_tmp': ['BraiserLid', 'MeatTurkeyLeg'],  ## , 'VeggieCabbage'\n",
    "        }\n",
    "    }\n",
    "    spaces = {\n",
    "        'Counter': {\n",
    "            'sektion': ['Bottle'], ##\n",
    "            'dagger': [], ## 'Salter', 'VinegarBottle'\n",
    "            'hitman_drawer_top': [],  ## 'Pan'\n",
    "            # 'hitman_drawer_bottom': ['Pan'],\n",
    "            # 'indigo_drawer_top': ['Fork'],  ## 'Fork', 'Knife'\n",
    "            # 'indigo_drawer_bottom': ['Fork', 'Knife'],\n",
    "            # 'indigo_tmp': ['Pot']\n",
    "        },\n",
    "    }"
   ]
  },
  {
   "cell_type": "code",
   "execution_count": 18,
   "id": "f059742a",
   "metadata": {},
   "outputs": [
    {
     "data": {
      "text/plain": [
       "{'living_room': {'x': 277.5,\n",
       "  'y': 236.24967500000002,\n",
       "  'yaw': 0,\n",
       "  'w': 321.0,\n",
       "  'l': 646.49935,\n",
       "  'category': 'floor'},\n",
       " 'counter#1': {'x': 153.5,\n",
       "  'y': 435.64441,\n",
       "  'yaw': 0,\n",
       "  'w': 73.0,\n",
       "  'l': 247.7099,\n",
       "  'category': 'counter'},\n",
       " 'Oven#1': {'x': 162.844172,\n",
       "  'y': 465.12913,\n",
       "  'yaw': 180,\n",
       "  'w': 51.288344,\n",
       "  'l': 63.85826,\n",
       "  'category': 'Oven'},\n",
       " 'DishWasher#1': {'x': 167.69655,\n",
       "  'y': 354.937842,\n",
       "  'yaw': 180,\n",
       "  'w': 48.72644,\n",
       "  'l': 55.875684,\n",
       "  'category': 'DishWasher'},\n",
       " 'Basin#1': {'x': 153.542937,\n",
       "  'y': 302.84026300000005,\n",
       "  'yaw': 180,\n",
       "  'w': 41.319394,\n",
       "  'l': 50.061486,\n",
       "  'category': 'Basin'},\n",
       " 'Fridge#1': {'x': 153.5,\n",
       "  'y': 244.0,\n",
       "  'yaw': 180,\n",
       "  'w': 49.0,\n",
       "  'l': 60.0,\n",
       "  'category': 'Fridge'}}"
      ]
     },
     "execution_count": 18,
     "metadata": {},
     "output_type": "execute_result"
    }
   ],
   "source": [
    "from pybullet_planning.world_builder.utils import read_xml, load_asset, get_model_scale\n",
    "\n",
    "objects, X_OFFSET, Y_OFFSET, SCALING, FLOOR_X_MIN, FLOOR_X_MAX, FLOOR_Y_MIN, FLOOR_Y_MAX = read_xml('kitchen_v3.svg', asset_path='assets')\n",
    "objects"
   ]
  },
  {
   "cell_type": "code",
   "execution_count": 18,
   "id": "53b28f99",
   "metadata": {},
   "outputs": [],
   "source": [
    "o = objects['counter#1']\n",
    "cat = o['category'].lower()\n",
    "x = (o['x'] - X_OFFSET) / SCALING\n",
    "y = (o['y'] - Y_OFFSET) / SCALING\n",
    "w = o['w'] / SCALING\n",
    "l = o['l'] / SCALING\n",
    "\n",
    "## add the object itself\n",
    "yaw = {0: 0, 90: PI / 2, 180: PI, 270: -PI / 2}[o['yaw']]\n",
    "obj = world.add_object(Object(\n",
    "    load_asset(cat, x=round(x, 1), y=0, yaw=yaw, floor=floor,\n",
    "               w=round(w, 1), l=round(l, 1), RANDOM_INSTANCE=True),\n",
    "    category=cat))"
   ]
  },
  {
   "cell_type": "code",
   "execution_count": 17,
   "id": "aee6520e",
   "metadata": {},
   "outputs": [],
   "source": [
    "world.remove_object(obj)"
   ]
  },
  {
   "cell_type": "code",
   "execution_count": 110,
   "id": "d6ec7706",
   "metadata": {},
   "outputs": [],
   "source": [
    "l = [None, 1, None, 0]"
   ]
  },
  {
   "cell_type": "code",
   "execution_count": 67,
   "id": "1268b8d2",
   "metadata": {},
   "outputs": [],
   "source": [
    "random.shuffle(l)"
   ]
  },
  {
   "cell_type": "code",
   "execution_count": 112,
   "id": "14d7e5ba",
   "metadata": {},
   "outputs": [],
   "source": [
    "l.insert(0, 'fig')"
   ]
  },
  {
   "cell_type": "code",
   "execution_count": 115,
   "id": "7a52388d",
   "metadata": {},
   "outputs": [],
   "source": [
    "l.insert(-1, 'lol')"
   ]
  },
  {
   "cell_type": "code",
   "execution_count": 166,
   "id": "04ace346",
   "metadata": {},
   "outputs": [
    {
     "data": {
      "text/plain": [
       "[None, 'oven', 'dishwasher', 'minifridge']"
      ]
     },
     "execution_count": 166,
     "metadata": {},
     "output_type": "execute_result"
    }
   ],
   "source": [
    "from random import randint\n",
    "# sample placements of fridge, oven, dishwasher\n",
    "if_fridge = randint(0, 4) # 0: no fridge, odd: fridge, even: minifridge\n",
    "if_oven = randint(0, 4) # 80% chance of getting oven\n",
    "if_dishwasher = randint(0, 4)\n",
    "\n",
    "fixtures = [None, None, None]\n",
    "if if_oven:\n",
    "    fixtures[0] = 'oven'\n",
    "if if_dishwasher:\n",
    "    fixtures[1] = 'dishwasher'\n",
    "random.shuffle(fixtures)\n",
    "\n",
    "if if_fridge == 0:\n",
    "    fixtures.append(None)\n",
    "    random.shuffle(fixtures)\n",
    "elif (if_fridge%2) == 1:\n",
    "    if randint(0, 1):\n",
    "        fixtures.insert(0, 'fridge')\n",
    "    else:\n",
    "        fixtures.append('fridge')\n",
    "elif (if_fridge%2) == 0:\n",
    "    if randint(0, 1):\n",
    "        fixtures.insert(0, 'minifridge')\n",
    "    else:\n",
    "        fixtures.append('minifridge')\n",
    "fixtures"
   ]
  },
  {
   "cell_type": "code",
   "execution_count": 172,
   "id": "6dec0902",
   "metadata": {},
   "outputs": [
    {
     "name": "stdout",
     "output_type": "stream",
     "text": [
      "1\n",
      "2\n",
      "3\n",
      "4\n",
      "5\n"
     ]
    }
   ],
   "source": [
    "for i, idx in enumerate(l):\n",
    "    if i:\n",
    "        print(i)"
   ]
  },
  {
   "cell_type": "code",
   "execution_count": 174,
   "id": "c14e5b76",
   "metadata": {},
   "outputs": [
    {
     "data": {
      "text/plain": [
       "False"
      ]
     },
     "execution_count": 174,
     "metadata": {},
     "output_type": "execute_result"
    }
   ],
   "source": [
    "isinstance(None, str)"
   ]
  }
 ],
 "metadata": {
  "kernelspec": {
   "display_name": "Python [conda env:kw]",
   "language": "python",
   "name": "conda-env-kw-py"
  },
  "language_info": {
   "codemirror_mode": {
    "name": "ipython",
    "version": 3
   },
   "file_extension": ".py",
   "mimetype": "text/x-python",
   "name": "python",
   "nbconvert_exporter": "python",
   "pygments_lexer": "ipython3",
   "version": "3.8.13"
  }
 },
 "nbformat": 4,
 "nbformat_minor": 5
}
